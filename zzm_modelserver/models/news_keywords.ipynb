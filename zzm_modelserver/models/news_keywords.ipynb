{
 "cells": [
  {
   "cell_type": "code",
   "execution_count": 1,
   "id": "17ec744b",
   "metadata": {},
   "outputs": [],
   "source": [
    "import pandas as pd\n",
    "from newspaper import Article\n",
    "from konlpy.tag import Kkma\n",
    "from konlpy.tag import Twitter\n",
    "from sklearn.feature_extraction.text import TfidfVectorizer\n",
    "from sklearn.feature_extraction.text import CountVectorizer\n",
    "from sklearn.preprocessing import normalize\n",
    "import numpy as np\n",
    "from tqdm import tqdm, tqdm_pandas\n",
    "import warnings\n",
    "warnings.filterwarnings('ignore')"
   ]
  },
  {
   "cell_type": "code",
   "execution_count": 2,
   "id": "967d87c9",
   "metadata": {
    "scrolled": true
   },
   "outputs": [],
   "source": [
    "df = pd.read_csv('/home/ubuntu/zzm_modelserver/datas/News Data.csv')"
   ]
  },
  {
   "cell_type": "code",
   "execution_count": 3,
   "id": "e31fc16b",
   "metadata": {},
   "outputs": [],
   "source": [
    "# 텍스트 크롤링, 문장 단위 분리, 명사 추출\n",
    "class SentenceTokenizer(object):\n",
    "    def __init__(self):\n",
    "        self.kkma = Kkma()\n",
    "        self.twitter = Twitter()\n",
    "        self.stopwords = [] # 불용어 처리 단어 등록 \n",
    "            \n",
    "    # url 기사 크롤링 및 텍스트 단위 분리\n",
    "    def url2sentences(self, url):\n",
    "        article = Article(url, language='ko')\n",
    "        article.download()\n",
    "        article.parse()\n",
    "        sentences = self.kkma.sentences(article.text)\n",
    "        \n",
    "        for idx in range(0, len(sentences)):\n",
    "            if len(sentences[idx]) <= 10:\n",
    "                sentences[idx-1] += (' ' + sentences[idx])\n",
    "                sentences[idx] = ''\n",
    "        \n",
    "        return sentences\n",
    "    \n",
    "    # 텍스트 단위 분리\n",
    "    def text2sentences(self, text):\n",
    "        sentences = self.kkma.sentences(text)      \n",
    "        for idx in range(0, len(sentences)):\n",
    "            if len(sentences[idx]) <= 10:\n",
    "                sentences[idx-1] += (' ' + sentences[idx])\n",
    "                sentences[idx] = ''\n",
    "        \n",
    "        return sentences\n",
    "    \n",
    "    # 명사 추출\n",
    "    def get_nouns(self, sentences):\n",
    "        nouns = []\n",
    "        for sentence in sentences:\n",
    "            if sentence != '':\n",
    "                nouns.append(' '.join([noun for noun in self.twitter.nouns(str(sentence)) \n",
    "                                       if noun not in self.stopwords and len(noun) > 1]))\n",
    "        \n",
    "        return nouns"
   ]
  },
  {
   "cell_type": "code",
   "execution_count": 4,
   "id": "466e022e",
   "metadata": {},
   "outputs": [],
   "source": [
    "# TF-IDF 모델, 그래프 생성\n",
    "class GraphMatrix(object):\n",
    "    def __init__(self):\n",
    "        self.tfidf = TfidfVectorizer()\n",
    "        self.cnt_vec = CountVectorizer()\n",
    "        self.graph_sentence = []\n",
    "        \n",
    "    # TF-IDF Matrix 생성 후 Sentence Graph 도출\n",
    "    def build_sent_graph(self, sentence):\n",
    "        tfidf_mat = self.tfidf.fit_transform(sentence).toarray()\n",
    "        self.graph_sentence = np.dot(tfidf_mat, tfidf_mat.T)\n",
    "        return  self.graph_sentence\n",
    "    \n",
    "    # Matrix 생성 후 word graph와 {idx: word}형태의 dictionary 도출\n",
    "    def build_words_graph(self, sentence):\n",
    "        cnt_vec_mat = normalize(self.cnt_vec.fit_transform(sentence).toarray().astype(float), axis=0)\n",
    "        vocab = self.cnt_vec.vocabulary_\n",
    "        return np.dot(cnt_vec_mat.T, cnt_vec_mat), {vocab[word] : word for word in vocab}"
   ]
  },
  {
   "cell_type": "code",
   "execution_count": 5,
   "id": "1a928903",
   "metadata": {},
   "outputs": [],
   "source": [
    "# Textrank 알고리즘 적용\n",
    "class Rank(object):\n",
    "    def get_ranks(self, graph, d=0.85): # d = damping factor\n",
    "        A = graph\n",
    "        matrix_size = A.shape[0]\n",
    "        for id in range(matrix_size):\n",
    "            A[id, id] = 0 # diagonal 부분을 0으로 \n",
    "            link_sum = np.sum(A[:,id]) # A[:, id] = A[:][id]\n",
    "            if link_sum != 0:\n",
    "                A[:, id] /= link_sum\n",
    "            A[:, id] *= -d\n",
    "            A[id, id] = 1\n",
    "            \n",
    "        B = (1-d) * np.ones((matrix_size, 1))\n",
    "        ranks = np.linalg.solve(A, B) # 연립방정식 Ax = b\n",
    "        return {idx: r[0] for idx, r in enumerate(ranks)}"
   ]
  },
  {
   "cell_type": "code",
   "execution_count": 6,
   "id": "0f8167b9",
   "metadata": {},
   "outputs": [],
   "source": [
    "# TextRank 클래스를 구현\n",
    "class TextRank(object):\n",
    "    def __init__(self, text):\n",
    "        self.sent_tokenize = SentenceTokenizer()\n",
    "        \n",
    "        if text[:5] in ('http:', 'https'):\n",
    "            self.sentences = self.sent_tokenize.url2sentences(text)\n",
    "        else:\n",
    "            self.sentences = self.sent_tokenize.text2sentences(text)\n",
    "        \n",
    "        self.nouns = self.sent_tokenize.get_nouns(self.sentences)\n",
    "                    \n",
    "        self.graph_matrix = GraphMatrix()\n",
    "        self.sent_graph = self.graph_matrix.build_sent_graph(self.nouns)\n",
    "        self.words_graph, self.idx2word = self.graph_matrix.build_words_graph(self.nouns)\n",
    "        \n",
    "        self.rank = Rank()\n",
    "        self.sent_rank_idx = self.rank.get_ranks(self.sent_graph)\n",
    "        self.sorted_sent_rank_idx = sorted(self.sent_rank_idx, key=lambda k: self.sent_rank_idx[k], reverse=True)\n",
    "        \n",
    "        self.word_rank_idx =  self.rank.get_ranks(self.words_graph)\n",
    "        self.sorted_word_rank_idx = sorted(self.word_rank_idx, key=lambda k: self.word_rank_idx[k], reverse=True)\n",
    "        \n",
    "    # 문서 요약 구현 ( 1줄 )\n",
    "    def summarize(self, sent_num=1):\n",
    "        summary = []\n",
    "        index=[]\n",
    "        for idx in self.sorted_sent_rank_idx[:sent_num]:\n",
    "            index.append(idx)\n",
    "        \n",
    "        index.sort()\n",
    "        for idx in index:\n",
    "            summary.append(self.sentences[idx])\n",
    "        \n",
    "        return summary\n",
    "    \n",
    "    # 키워드 출력 구현 ( 10개 )\n",
    "    def keywords(self, word_num=10):\n",
    "        rank = Rank()\n",
    "        rank_idx = rank.get_ranks(self.words_graph)\n",
    "        sorted_rank_idx = sorted(rank_idx, key=lambda k: rank_idx[k], reverse=True)\n",
    "        \n",
    "        keywords = []\n",
    "        index=[]\n",
    "        for idx in sorted_rank_idx[:word_num]:\n",
    "            index.append(idx)\n",
    "            \n",
    "        #index.sort()\n",
    "        for idx in index:\n",
    "            keywords.append(self.idx2word[idx])\n",
    "        \n",
    "        return keywords"
   ]
  },
  {
   "cell_type": "code",
   "execution_count": 7,
   "id": "7735d37d",
   "metadata": {},
   "outputs": [],
   "source": [
    "def dataselct(input):\n",
    "    b = df[ df['corp_nm'].str.contains(input) ]\n",
    "    b.reset_index(drop=True, inplace=True)\n",
    "    \n",
    "    return b"
   ]
  },
  {
   "cell_type": "code",
   "execution_count": 8,
   "id": "b45d65ba",
   "metadata": {},
   "outputs": [],
   "source": [
    "b = dataselct('삼성전자')"
   ]
  },
  {
   "cell_type": "markdown",
   "id": "3bf58d0e",
   "metadata": {},
   "source": [
    "# 결과값 리스트로 저장\n",
    "def Textderivation(input):\n",
    "    t = []\n",
    "    a = []\n",
    "    k = []\n",
    "    #b = df[ df['corp_nm'].str.contains(input) ]\n",
    "    #b.reset_index(drop=True, inplace=True)\n",
    "    \n",
    "    for i in [4]: # 위치 및 도출 개수 지정\n",
    "        ti = b['title'][i]\n",
    "        t.append(ti)\n",
    "        text = str(b['content'][i])\n",
    "        textrank = TextRank(text)\n",
    "        row = textrank.summarize(1) # 기사 핵심 문장 아웃풋\n",
    "        a.extend(row)\n",
    "        rowk = textrank.keywords()\n",
    "        k.extend(rowk)\n",
    "    \n",
    "    \n",
    "    return t, a, k"
   ]
  },
  {
   "cell_type": "markdown",
   "id": "ff8878bf",
   "metadata": {},
   "source": [
    "# 결과값 리스트로 저장\n",
    "def Textderivation(r):\n",
    "    #t = []\n",
    "    a = []\n",
    "    #k = []\n",
    "    \n",
    "    #ti = b['title'][r]\n",
    "    #t.append(ti)\n",
    "    text = str(b['content'][r])\n",
    "    textrank = TextRank(text)\n",
    "    row = textrank.summarize(1) # 기사 핵심 문장 아웃풋\n",
    "    a.extend(row)\n",
    "    #rowk = textrank.keywords()\n",
    "    #k.extend(rowk)\n",
    "    \n",
    "    \n",
    "    return a#, k"
   ]
  },
  {
   "cell_type": "markdown",
   "id": "46923ede",
   "metadata": {},
   "source": [
    "Textderivation(4) # 결과값 예시"
   ]
  },
  {
   "cell_type": "code",
   "execution_count": 9,
   "id": "3a8207ab",
   "metadata": {},
   "outputs": [],
   "source": [
    "def Textderivation(r):\n",
    "    text = str(b['content'][r])\n",
    "    textrank = TextRank(text)\n",
    "    rows = textrank.summarize(1)\n",
    "    rowk = textrank.keywords()\n",
    "\n",
    "    return rows, rowk"
   ]
  },
  {
   "cell_type": "code",
   "execution_count": 10,
   "id": "f8a0d76b",
   "metadata": {},
   "outputs": [
    {
     "ename": "",
     "evalue": "",
     "output_type": "error",
     "traceback": [
      "\u001b[1;31mCanceled future for execute_request message before replies were done"
     ]
    },
    {
     "ename": "",
     "evalue": "",
     "output_type": "error",
     "traceback": [
      "\u001b[1;31m현재 셀 또는 이전 셀에서 코드를 실행하는 동안 Kernel이 충돌했습니다. 셀의 코드를 검토하여 오류의 가능한 원인을 식별하세요. 자세한 내용을 보려면 <a href='https://aka.ms/vscodeJupyterKernelCrash'> 여기 </a> 를 클릭하세요. 자세한 내용은 Jupyter <a href='command:jupyter.viewOutput'>로그</a>를 참조하세요."
     ]
    }
   ],
   "source": [
    "Textderivation(4)"
   ]
  },
  {
   "cell_type": "markdown",
   "id": "5c853b86",
   "metadata": {},
   "source": []
  },
  {
   "cell_type": "code",
   "execution_count": null,
   "id": "31f55251",
   "metadata": {},
   "outputs": [],
   "source": []
  },
  {
   "cell_type": "markdown",
   "id": "c942c0e1",
   "metadata": {},
   "source": [
    "# 결과값 리스트로 저장\n",
    "def Textderivation(input):\n",
    "    a = []\n",
    "    b = df[ df['corp_nm'].str.contains(input) ]\n",
    "    b.reset_index(drop=True, inplace=True)\n",
    "    \n",
    "    for i in range(0, len(b)):\n",
    "        text = str(b['content'][i])\n",
    "        textrank = TextRank(text)\n",
    "        row = textrank.summarize(1) # 기사 핵심 문장 아웃풋\n",
    "        a.extend(row)\n",
    "    \n",
    "    return a"
   ]
  },
  {
   "cell_type": "markdown",
   "id": "fa976d9d",
   "metadata": {},
   "source": [
    "Textderivation('삼성전자') # 결과값 예시"
   ]
  },
  {
   "cell_type": "code",
   "execution_count": null,
   "id": "faad312f",
   "metadata": {},
   "outputs": [],
   "source": []
  }
 ],
 "metadata": {
  "kernelspec": {
   "display_name": "Python 3.9.13 ('zzm': conda)",
   "language": "python",
   "name": "python3"
  },
  "language_info": {
   "codemirror_mode": {
    "name": "ipython",
    "version": 3
   },
   "file_extension": ".py",
   "mimetype": "text/x-python",
   "name": "python",
   "nbconvert_exporter": "python",
   "pygments_lexer": "ipython3",
   "version": "3.9.13"
  },
  "vscode": {
   "interpreter": {
    "hash": "163ddee31f987ca3df9aba9a83fa7ab18cef028c49e39c72c1dbfccf5630ed89"
   }
  }
 },
 "nbformat": 4,
 "nbformat_minor": 5
}
